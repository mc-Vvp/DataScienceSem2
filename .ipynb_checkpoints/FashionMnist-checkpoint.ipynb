{
 "cells": [
  {
   "cell_type": "markdown",
   "metadata": {},
   "source": [
    "[![alt text](https://avatars2.githubusercontent.com/u/60108327?s=400&u=4aaa7e2f7be4d0105bbcc0994e973c469b724237&v=4)](https://github.com/mc-Vvp/DataScienceSem2)"
   ]
  },
  {
   "cell_type": "markdown",
   "metadata": {},
   "source": [
    "# Import libraries"
   ]
  },
  {
   "cell_type": "code",
   "execution_count": 1,
   "metadata": {},
   "outputs": [],
   "source": [
    "import numpy as np\n",
    "import pandas as pd\n",
    "import matplotlib.pyplot as plt\n",
    "import seaborn as sns\n",
    "# sns.set_style(\"ticks\", {\"xtick.major.size\": 8, \"ytick.major.size\": 8})\n",
    "sns.axes_style(\"whitegrid\")\n",
    "\n",
    "# import keras\n",
    "# from keras.models import Sequential\n",
    "# from keras.layers import Conv2D, MaxPooling2D, Dense, Flatten, Dropout\n",
    "# from keras.optimizers import Adam\n",
    "# from keras.callbacks import TensorBoard\n",
    "\n",
    "# from sklearn.model_selection import train_test_split\n",
    "# import tensorflow as tf\n",
    "\n",
    "from sklearn.decomposition import PCA\n",
    "\n",
    "from sklearn.preprocessing import MinMaxScaler, binarize\n",
    "from sklearn.metrics import accuracy_score, roc_curve, roc_auc_score, plot_roc_curve, confusion_matrix, classification_report, precision_recall_curve, average_precision_score  \n",
    "from sklearn.model_selection import cross_val_score, GridSearchCV, RandomizedSearchCV, cross_val_predict\n",
    "\n",
    "from sklearn.naive_bayes import MultinomialNB, GaussianNB\n",
    "from sklearn.ensemble import AdaBoostClassifier, RandomForestClassifier, GradientBoostingClassifier\n",
    "from sklearn.tree import DecisionTreeClassifier\n",
    "from sklearn.linear_model import LogisticRegression\n",
    "from sklearn.svm import SVC, LinearSVC\n",
    "from sklearn.model_selection import cross_validate\n",
    "from sklearn.neighbors import KNeighborsClassifier"
   ]
  },
  {
   "cell_type": "markdown",
   "metadata": {},
   "source": [
    " "
   ]
  },
  {
   "cell_type": "markdown",
   "metadata": {},
   "source": [
    "# Data"
   ]
  },
  {
   "cell_type": "code",
   "execution_count": 2,
   "metadata": {},
   "outputs": [
    {
     "data": {
      "text/html": [
       "<div>\n",
       "<style scoped>\n",
       "    .dataframe tbody tr th:only-of-type {\n",
       "        vertical-align: middle;\n",
       "    }\n",
       "\n",
       "    .dataframe tbody tr th {\n",
       "        vertical-align: top;\n",
       "    }\n",
       "\n",
       "    .dataframe thead th {\n",
       "        text-align: right;\n",
       "    }\n",
       "</style>\n",
       "<table border=\"1\" class=\"dataframe\">\n",
       "  <thead>\n",
       "    <tr style=\"text-align: right;\">\n",
       "      <th></th>\n",
       "      <th>label</th>\n",
       "      <th>pixel1</th>\n",
       "      <th>pixel2</th>\n",
       "      <th>pixel3</th>\n",
       "      <th>pixel4</th>\n",
       "      <th>pixel5</th>\n",
       "      <th>pixel6</th>\n",
       "      <th>pixel7</th>\n",
       "      <th>pixel8</th>\n",
       "      <th>pixel9</th>\n",
       "      <th>...</th>\n",
       "      <th>pixel775</th>\n",
       "      <th>pixel776</th>\n",
       "      <th>pixel777</th>\n",
       "      <th>pixel778</th>\n",
       "      <th>pixel779</th>\n",
       "      <th>pixel780</th>\n",
       "      <th>pixel781</th>\n",
       "      <th>pixel782</th>\n",
       "      <th>pixel783</th>\n",
       "      <th>pixel784</th>\n",
       "    </tr>\n",
       "  </thead>\n",
       "  <tbody>\n",
       "    <tr>\n",
       "      <th>0</th>\n",
       "      <td>2</td>\n",
       "      <td>0</td>\n",
       "      <td>0</td>\n",
       "      <td>0</td>\n",
       "      <td>0</td>\n",
       "      <td>0</td>\n",
       "      <td>0</td>\n",
       "      <td>0</td>\n",
       "      <td>0</td>\n",
       "      <td>0</td>\n",
       "      <td>...</td>\n",
       "      <td>0</td>\n",
       "      <td>0</td>\n",
       "      <td>0</td>\n",
       "      <td>0</td>\n",
       "      <td>0</td>\n",
       "      <td>0</td>\n",
       "      <td>0</td>\n",
       "      <td>0</td>\n",
       "      <td>0</td>\n",
       "      <td>0</td>\n",
       "    </tr>\n",
       "    <tr>\n",
       "      <th>1</th>\n",
       "      <td>9</td>\n",
       "      <td>0</td>\n",
       "      <td>0</td>\n",
       "      <td>0</td>\n",
       "      <td>0</td>\n",
       "      <td>0</td>\n",
       "      <td>0</td>\n",
       "      <td>0</td>\n",
       "      <td>0</td>\n",
       "      <td>0</td>\n",
       "      <td>...</td>\n",
       "      <td>0</td>\n",
       "      <td>0</td>\n",
       "      <td>0</td>\n",
       "      <td>0</td>\n",
       "      <td>0</td>\n",
       "      <td>0</td>\n",
       "      <td>0</td>\n",
       "      <td>0</td>\n",
       "      <td>0</td>\n",
       "      <td>0</td>\n",
       "    </tr>\n",
       "    <tr>\n",
       "      <th>2</th>\n",
       "      <td>6</td>\n",
       "      <td>0</td>\n",
       "      <td>0</td>\n",
       "      <td>0</td>\n",
       "      <td>0</td>\n",
       "      <td>0</td>\n",
       "      <td>0</td>\n",
       "      <td>0</td>\n",
       "      <td>5</td>\n",
       "      <td>0</td>\n",
       "      <td>...</td>\n",
       "      <td>0</td>\n",
       "      <td>0</td>\n",
       "      <td>0</td>\n",
       "      <td>30</td>\n",
       "      <td>43</td>\n",
       "      <td>0</td>\n",
       "      <td>0</td>\n",
       "      <td>0</td>\n",
       "      <td>0</td>\n",
       "      <td>0</td>\n",
       "    </tr>\n",
       "    <tr>\n",
       "      <th>3</th>\n",
       "      <td>0</td>\n",
       "      <td>0</td>\n",
       "      <td>0</td>\n",
       "      <td>0</td>\n",
       "      <td>1</td>\n",
       "      <td>2</td>\n",
       "      <td>0</td>\n",
       "      <td>0</td>\n",
       "      <td>0</td>\n",
       "      <td>0</td>\n",
       "      <td>...</td>\n",
       "      <td>3</td>\n",
       "      <td>0</td>\n",
       "      <td>0</td>\n",
       "      <td>0</td>\n",
       "      <td>0</td>\n",
       "      <td>1</td>\n",
       "      <td>0</td>\n",
       "      <td>0</td>\n",
       "      <td>0</td>\n",
       "      <td>0</td>\n",
       "    </tr>\n",
       "    <tr>\n",
       "      <th>4</th>\n",
       "      <td>3</td>\n",
       "      <td>0</td>\n",
       "      <td>0</td>\n",
       "      <td>0</td>\n",
       "      <td>0</td>\n",
       "      <td>0</td>\n",
       "      <td>0</td>\n",
       "      <td>0</td>\n",
       "      <td>0</td>\n",
       "      <td>0</td>\n",
       "      <td>...</td>\n",
       "      <td>0</td>\n",
       "      <td>0</td>\n",
       "      <td>0</td>\n",
       "      <td>0</td>\n",
       "      <td>0</td>\n",
       "      <td>0</td>\n",
       "      <td>0</td>\n",
       "      <td>0</td>\n",
       "      <td>0</td>\n",
       "      <td>0</td>\n",
       "    </tr>\n",
       "  </tbody>\n",
       "</table>\n",
       "<p>5 rows × 785 columns</p>\n",
       "</div>"
      ],
      "text/plain": [
       "   label  pixel1  pixel2  pixel3  pixel4  pixel5  pixel6  pixel7  pixel8  \\\n",
       "0      2       0       0       0       0       0       0       0       0   \n",
       "1      9       0       0       0       0       0       0       0       0   \n",
       "2      6       0       0       0       0       0       0       0       5   \n",
       "3      0       0       0       0       1       2       0       0       0   \n",
       "4      3       0       0       0       0       0       0       0       0   \n",
       "\n",
       "   pixel9  ...  pixel775  pixel776  pixel777  pixel778  pixel779  pixel780  \\\n",
       "0       0  ...         0         0         0         0         0         0   \n",
       "1       0  ...         0         0         0         0         0         0   \n",
       "2       0  ...         0         0         0        30        43         0   \n",
       "3       0  ...         3         0         0         0         0         1   \n",
       "4       0  ...         0         0         0         0         0         0   \n",
       "\n",
       "   pixel781  pixel782  pixel783  pixel784  \n",
       "0         0         0         0         0  \n",
       "1         0         0         0         0  \n",
       "2         0         0         0         0  \n",
       "3         0         0         0         0  \n",
       "4         0         0         0         0  \n",
       "\n",
       "[5 rows x 785 columns]"
      ]
     },
     "execution_count": 2,
     "metadata": {},
     "output_type": "execute_result"
    }
   ],
   "source": [
    "train_df = pd.read_csv('dataset/fashion-mnist_train.csv')\n",
    "test_df = pd.read_csv('dataset/fashion-mnist_test.csv')\n",
    "train_df.head()"
   ]
  },
  {
   "cell_type": "markdown",
   "metadata": {},
   "source": [
    "* **About:** this dataset contains two csv files, one for train and one for test. the training set has 60000 examples and the testing set has 10000 examples. each example is a 28X28 pixels which means that the image has 784 pixels. <br>\n",
    "Each training and test example is assigned to one of the ten labels.\n",
    "* **Labels:** <br>\n",
    "    * 0 T-shirt/top <br>\n",
    "    * 1 Trouser <br>\n",
    "    * 2 Pullover <br>\n",
    "    * 3 Dress <br>\n",
    "    * 4 Coat <br>\n",
    "    * 5 Sandal <br>\n",
    "    * 6 Shirt <br>\n",
    "    * 7 Sneaker <br>\n",
    "    * 8 Bag <br>\n",
    "    * 9 Ankle boot <br>\n",
    " \n"
   ]
  },
  {
   "cell_type": "code",
   "execution_count": null,
   "metadata": {},
   "outputs": [],
   "source": []
  },
  {
   "cell_type": "markdown",
   "metadata": {},
   "source": [
    "# pca"
   ]
  },
  {
   "cell_type": "code",
   "execution_count": 3,
   "metadata": {},
   "outputs": [],
   "source": [
    "train_data = np.array(train_df, dtype='float32')\n",
    "test_data = np.array(test_df, dtype='float32')\n",
    "\n",
    "X_train = train_data[:, 1:] / 1\n",
    "y_train = train_data[:, 0]\n",
    "\n",
    "X_test = test_data[:, 1:] / 1#/128#/255\n",
    "y_test = test_data[:, 0]"
   ]
  },
  {
   "cell_type": "code",
   "execution_count": 4,
   "metadata": {},
   "outputs": [
    {
     "data": {
      "image/png": "[encoded data removed]",
      "text/plain": [
       "<Figure size 432x288 with 1 Axes>"
      ]
     },
     "metadata": {
      "needs_background": "light"
     },
     "output_type": "display_data"
    }
   ],
   "source": [
    "pca = PCA()\n",
    "pca.fit(X_train)\n",
    "cumsum = np.cumsum(pca.explained_variance_ratio_)\n",
    "x = np.arange(1, len(cumsum)+1)\n",
    "plt.plot(x, cumsum)\n",
    "plt.grid(True)\n",
    "plt.title('Variance as Dimensions Functions')\n",
    "plt.xlabel('Dimensions')\n",
    "plt.ylabel('Variance')\n",
    "plt.show()"
   ]
  },
  {
   "cell_type": "code",
   "execution_count": 5,
   "metadata": {},
   "outputs": [
    {
     "data": {
      "text/plain": [
       "84"
      ]
     },
     "execution_count": 5,
     "metadata": {},
     "output_type": "execute_result"
    }
   ],
   "source": [
    "pca = PCA(n_components=0.90)\n",
    "X_train_pca = pca.fit_transform(X_train)\n",
    "\n",
    "# print(pca.explained_variance_ratio_)\n",
    "# print(pca.singular_values_)\n",
    "\n",
    "d = len(pca.singular_values_)\n",
    "pca2 = PCA(n_components=d)\n",
    "X_test_pca = pca2.fit_transform(X_test)\n",
    "d"
   ]
  },
  {
   "cell_type": "code",
   "execution_count": null,
   "metadata": {},
   "outputs": [],
   "source": []
  },
  {
   "cell_type": "code",
   "execution_count": 6,
   "metadata": {},
   "outputs": [
    {
     "data": {
      "image/png": "[encoded data removed]",
      "text/plain": [
       "<Figure size 432x288 with 1 Axes>"
      ]
     },
     "metadata": {
      "needs_background": "light"
     },
     "output_type": "display_data"
    }
   ],
   "source": [
    "first_image = X_train[0]\n",
    "\n",
    "first_image = np.array(first_image, dtype='uint8')\n",
    "pixels = first_image.reshape((28, 28))\n",
    "plt.imshow(pixels, cmap='gray')\n",
    "plt.show()"
   ]
  },
  {
   "cell_type": "code",
   "execution_count": 7,
   "metadata": {},
   "outputs": [],
   "source": [
    "def paint():\n",
    "    tmp = train_df.groupby('label').sum()\n",
    "    train_data = np.array(tmp, dtype='float32')\n",
    "\n",
    "    first_image = train_data[0]\n",
    "\n",
    "    first_image = np.array(first_image, dtype='uint8')\n",
    "    pixels = first_image.reshape((28, 28))\n",
    "    import numpy as np; np.random.seed(0)\n",
    "\n",
    "    import seaborn as sns; sns.set()\n",
    "\n",
    "    # uniform_data = np.random.rand(10, 12)\n",
    "    uniform_data = pixels#//500\n",
    "    ax = sns.heatmap(uniform_data)\n",
    "\n",
    "    uniform_data.max()"
   ]
  },
  {
   "cell_type": "code",
   "execution_count": 8,
   "metadata": {},
   "outputs": [],
   "source": [
    "def evaluate(true, pred):\n",
    "#     model_accuracy = roc_auc_score(true, pred, multi_class=\"ovr\")\n",
    "#     null_accuracy = roc_auc_score(true, true.replace(1, 0))\n",
    "    \n",
    "#     print(\"Null AUC Score: {:.5f}\".format(null_accuracy))\n",
    "#     print(\"Model AUC Score: {:.5f}\".format(model_accuracy))\n",
    "\n",
    "#     if null_accuracy >= model_accuracy:\n",
    "#         print(\"The model isn't effective\")\n",
    "# #         return\n",
    "#     else:\n",
    "#         print(\"The model is better then a 'dumb' model\")\n",
    "    print(\"confusion_matrix:\\n\", confusion_matrix(true, pred))\n",
    "    print(classification_report(true, pred))"
   ]
  },
  {
   "cell_type": "markdown",
   "metadata": {},
   "source": [
    "# models"
   ]
  },
  {
   "cell_type": "markdown",
   "metadata": {},
   "source": [
    "#### dictionary to save the accurasies of the models:"
   ]
  },
  {
   "cell_type": "code",
   "execution_count": 9,
   "metadata": {},
   "outputs": [],
   "source": [
    "model_dict = {}"
   ]
  },
  {
   "cell_type": "code",
   "execution_count": 10,
   "metadata": {},
   "outputs": [],
   "source": [
    "def score_models(model_name, model_scores):\n",
    "    model_dict.update({model_name: model_scores})\n",
    "\n",
    "    print(\"Accuracy: {:.2f} (+/- {:.2f})\".format(model_scores['test_score'].mean(), model_scores['test_score'].std() * 2))\n",
    "    print('Train time: {:.2f} seconds (+/- {:.2f}) for a total of {:.2f} seconds'.format(model_scores['fit_time'].mean(), model_scores['fit_time'].std() * 2, model_scores['fit_time'].sum()))\n",
    "    print('Test time: {:.2f} seconds (+/- {:.2f}) for a total of {:.2f} seconds'.format(model_scores['score_time'].mean(), model_scores['score_time'].std() * 2, model_scores['score_time'].sum()))"
   ]
  },
  {
   "cell_type": "code",
   "execution_count": 11,
   "metadata": {},
   "outputs": [],
   "source": [
    "def best_model():\n",
    "    max_score = 0\n",
    "    best_key = None\n",
    "    for key in model_dict:\n",
    "#         model_score = model_dict[key].mean()\n",
    "        try:   \n",
    "            model_score=model_dict[key]['test_score'].mean()\n",
    "        except IndexError: # remove this\n",
    "            model_score=model_dict[key].mean()\n",
    "        if max_score < model_score:\n",
    "            max_score = model_score\n",
    "            best_key = key\n",
    "    print('the best model is {} with the score of {}'.format(best_key, max_score))"
   ]
  },
  {
   "cell_type": "markdown",
   "metadata": {},
   "source": [
    "### Naive Bayes"
   ]
  },
  {
   "cell_type": "code",
   "execution_count": 12,
   "metadata": {},
   "outputs": [
    {
     "name": "stdout",
     "output_type": "stream",
     "text": [
      "confusion_matrix:\n",
      " [[740   0  15  44  25   1  62   9 104   0]\n",
      " [  6 334   3 566   6   2  43   1  39   0]\n",
      " [ 24   0 447   1 183   5 205  11 123   1]\n",
      " [142 135  15 507  64  13  62   3  59   0]\n",
      " [  8   0  99  20 643   4 171   1  54   0]\n",
      " [  7   0   0   0   0 729  38 134  80  12]\n",
      " [234   2  79  23 139  15 414   6  88   0]\n",
      " [  1   0   3   0   0 238  11 584  48 115]\n",
      " [  5   0  92   0  17  33  42  59 740  12]\n",
      " [  6   0   2   0   0  39  11  74  92 776]]\n",
      "              precision    recall  f1-score   support\n",
      "\n",
      "         0.0       0.63      0.74      0.68      1000\n",
      "         1.0       0.71      0.33      0.45      1000\n",
      "         2.0       0.59      0.45      0.51      1000\n",
      "         3.0       0.44      0.51      0.47      1000\n",
      "         4.0       0.60      0.64      0.62      1000\n",
      "         5.0       0.68      0.73      0.70      1000\n",
      "         6.0       0.39      0.41      0.40      1000\n",
      "         7.0       0.66      0.58      0.62      1000\n",
      "         8.0       0.52      0.74      0.61      1000\n",
      "         9.0       0.85      0.78      0.81      1000\n",
      "\n",
      "    accuracy                           0.59     10000\n",
      "   macro avg       0.61      0.59      0.59     10000\n",
      "weighted avg       0.61      0.59      0.59     10000\n",
      "\n",
      "Accuracy: 0.77 (+/- 0.00)\n",
      "Train time: 0.07 seconds (+/- 0.01) for a total of 0.33 seconds\n",
      "Test time: 0.13 seconds (+/- 0.03) for a total of 0.67 seconds\n"
     ]
    }
   ],
   "source": [
    "gnb = GaussianNB()\n",
    "\n",
    "gnb.fit(X_train_pca, y_train)\n",
    "predictions = gnb.predict(X_test_pca)\n",
    "evaluate(y_test, predictions)\n",
    "\n",
    "gnb_scores = cross_validate(gnb, X_train_pca, y_train, cv=5)\n",
    "\n",
    "score_models('GaussianNB', gnb_scores)"
   ]
  },
  {
   "cell_type": "markdown",
   "metadata": {},
   "source": [
    "### random forest"
   ]
  },
  {
   "cell_type": "code",
   "execution_count": 13,
   "metadata": {},
   "outputs": [
    {
     "name": "stdout",
     "output_type": "stream",
     "text": [
      "Accuracy: 0.87 (+/- 0.01)\n",
      "Train time: 79.51 seconds (+/- 1.22) for a total of 397.57 seconds\n",
      "Test time: 0.36 seconds (+/- 0.06) for a total of 1.80 seconds\n",
      "confusion_matrix:\n",
      " [[5147    3   84  216   28   11  436    0   75    0]\n",
      " [  15 5746   37  163   11    0   23    0    4    1]\n",
      " [  54    0 4843   50  626    7  367    0   53    0]\n",
      " [ 178   20   44 5392  180    2  148    0   33    3]\n",
      " [  15    4  515  248 4829    3  340    0   46    0]\n",
      " [   0    0    0    4    0 5613    0  220   27  136]\n",
      " [ 973    5  711  145  558    8 3488    0  112    0]\n",
      " [   0    0    0    0    0  193    0 5508    7  292]\n",
      " [  13    0   34   42   27   80   47   19 5728   10]\n",
      " [   0    0    0    1    0  113    0  197    3 5686]]\n",
      "              precision    recall  f1-score   support\n",
      "\n",
      "         0.0       0.80      0.86      0.83      6000\n",
      "         1.0       0.99      0.96      0.98      6000\n",
      "         2.0       0.77      0.81      0.79      6000\n",
      "         3.0       0.86      0.90      0.88      6000\n",
      "         4.0       0.77      0.80      0.79      6000\n",
      "         5.0       0.93      0.94      0.93      6000\n",
      "         6.0       0.72      0.58      0.64      6000\n",
      "         7.0       0.93      0.92      0.92      6000\n",
      "         8.0       0.94      0.95      0.95      6000\n",
      "         9.0       0.93      0.95      0.94      6000\n",
      "\n",
      "    accuracy                           0.87     60000\n",
      "   macro avg       0.87      0.87      0.86     60000\n",
      "weighted avg       0.87      0.87      0.86     60000\n",
      "\n"
     ]
    }
   ],
   "source": [
    "rf = RandomForestClassifier(random_state=0, max_depth=None, n_estimators=100)\n",
    "\n",
    "# scores = cross_val_score(rf, X_train_pca, y_train, cv=5, scoring='neg_mean_squared_error')\n",
    "# rf_score = np.sqrt(-scores)\n",
    "rf_scores = cross_validate(rf, X_train_pca, y_train, cv=5, n_jobs=-1)\n",
    "\n",
    "# model_dict.update({\"RandomForestClassifier\": rf_score})\n",
    "\n",
    "# print(\"Accuracy: %0.2f (+/- %0.2f)\" % (rf_score.mean(), rf_score.std() * 2))\n",
    "\n",
    "score_models('Random Forest', rf_scores)\n",
    "\n",
    "tmp = cross_val_predict(rf, X_train_pca, y_train, cv=5, n_jobs=-1)\n",
    "\n",
    "\n",
    "# print(len(predictions))\n",
    "# print(len(tmp))\n",
    "# y_test_appended = np.append(np.append(y_test,y_test),np.append(np.append(y_test, y_test),np.append(y_test, y_test)))\n",
    "evaluate(y_train, tmp)"
   ]
  },
  {
   "cell_type": "code",
   "execution_count": 14,
   "metadata": {},
   "outputs": [
    {
     "name": "stdout",
     "output_type": "stream",
     "text": [
      "Accuracy: 0.84 (+/- 0.00)\n",
      "Train time: 7.45 seconds (+/- 0.29) for a total of 37.24 seconds\n",
      "Test time: 0.01 seconds (+/- 0.00) for a total of 0.06 seconds\n"
     ]
    }
   ],
   "source": [
    "lr = LogisticRegression(random_state=0)#, solver='lbfgs', penalty='l2')\n",
    "\n",
    "lr_scores = cross_validate(lr, X_train_pca, y_train, cv=5, n_jobs=-1)\n",
    "\n",
    "# model_dict.update({\"logistic regression\": lr_scores})\n",
    "\n",
    "# print(\"Accuracy: %0.2f (+/- %0.2f)\" % (lr_scores['test_score'].mean(), lr_scores['test_score'].std() * 2))\n",
    "# print('the mean train time is {} seconds'.format(lr_scores['fit_time'].mean()))\n",
    "# print('the mean test time is {} seconds'.format(lr_scores['score_time'].mean()))\n",
    "\n",
    "score_models('Logistic Regression', lr_scores)\n",
    "\n",
    "# lr2_score = scores\n",
    "# print(\"Accuracy: %0.2f (+/- %0.2f)\" % (lr2_score.mean(), lr2_score.std() * 2))\n",
    "\n",
    "# tmp = cross_val_predict(lr2, X_train_pca, y_train, cv=5, n_jobs=-1)\n",
    "# tmp\n",
    "\n",
    "# print(len(predictions))\n",
    "# print(len(tmp))\n",
    "# # y_test_appended = np.append(np.append(y_test,y_test),np.append(np.append(y_test, y_test),np.append(y_test, y_test)))\n",
    "# evaluate(y_train, tmp)"
   ]
  },
  {
   "cell_type": "code",
   "execution_count": 15,
   "metadata": {},
   "outputs": [
    {
     "name": "stdout",
     "output_type": "stream",
     "text": [
      "Accuracy: 0.80 (+/- 0.03)\n",
      "Train time: 63.37 seconds (+/- 0.56) for a total of 316.86 seconds\n",
      "Test time: 23.45 seconds (+/- 0.27) for a total of 117.24 seconds\n"
     ]
    }
   ],
   "source": [
    "svc = SVC(random_state=0, max_iter=500)\n",
    "# svc.fit(X_train, y_train)\n",
    "# predictions = svc.predict(X_test)\n",
    "# evaluate(y_test, predictions)\n",
    "\n",
    "svc_scores = cross_validate(svc, X_train_pca, y_train, cv=5, n_jobs=-1)\n",
    "score_models('SVC', svc_scores)"
   ]
  },
  {
   "cell_type": "code",
   "execution_count": 16,
   "metadata": {},
   "outputs": [
    {
     "name": "stdout",
     "output_type": "stream",
     "text": [
      "Accuracy: 0.80 (+/- 0.03)\n",
      "Train time: 63.47 seconds (+/- 0.68) for a total of 317.36 seconds\n",
      "Test time: 23.26 seconds (+/- 0.07) for a total of 116.30 seconds\n"
     ]
    }
   ],
   "source": [
    "gb = GradientBoostingClassifier(random_state=0)\n",
    "gb_scores = cross_validate(svc, X_train_pca, y_train, cv=5, n_jobs=-1)\n",
    "score_models('Gradient Boosting', gb_scores)"
   ]
  },
  {
   "cell_type": "code",
   "execution_count": 17,
   "metadata": {},
   "outputs": [],
   "source": [
    "#now lets find the optimum K \n",
    "k_max = 15\n",
    "k_min = 1\n",
    "err_rate = []\n",
    "for i in range(k_min, k_max+1):\n",
    "    k = KNeighborsClassifier(n_neighbors=i)\n",
    "#     k.fit(X_train_pca, y_train)\n",
    "#     pred_i = k.predict(X_test_pca)\n",
    "#     err_rate.append(np.mean(pred_i != y_test))\n",
    "    scores = cross_validate(k, X_train_pca, y_train, cv=5, n_jobs=-1)['test_score']\n",
    "    if scores.std() > 0.1:\n",
    "        err_rate.append(0)\n",
    "    else:\n",
    "        err_rate.append(scores.mean())"
   ]
  },
  {
   "cell_type": "code",
   "execution_count": 18,
   "metadata": {},
   "outputs": [
    {
     "data": {
      "image/png": "[encoded data removed]",
      "text/plain": [
       "<Figure size 432x288 with 1 Axes>"
      ]
     },
     "metadata": {
      "needs_background": "light"
     },
     "output_type": "display_data"
    }
   ],
   "source": [
    "plt.plot(np.arange(k_min, k_max+1), err_rate)\n",
    "plt.show()"
   ]
  },
  {
   "cell_type": "code",
   "execution_count": 19,
   "metadata": {},
   "outputs": [
    {
     "data": {
      "text/plain": [
       "2"
      ]
     },
     "execution_count": 19,
     "metadata": {},
     "output_type": "execute_result"
    }
   ],
   "source": [
    "index = err_rate.index(min(err_rate)) + 1\n",
    "index"
   ]
  },
  {
   "cell_type": "code",
   "execution_count": 20,
   "metadata": {},
   "outputs": [],
   "source": [
    "k = KNeighborsClassifier(n_neighbors=index)\n",
    "# k.fit(X_train_pca, y_train)\n",
    "# predictions = k.predict(X_test_pca)"
   ]
  },
  {
   "cell_type": "code",
   "execution_count": 21,
   "metadata": {},
   "outputs": [
    {
     "name": "stdout",
     "output_type": "stream",
     "text": [
      "Accuracy: 0.85 (+/- 0.00)\n",
      "Train time: 2.05 seconds (+/- 0.07) for a total of 10.27 seconds\n",
      "Test time: 21.69 seconds (+/- 0.38) for a total of 108.45 seconds\n"
     ]
    }
   ],
   "source": [
    "k_scores = cross_validate(k, X_train_pca, y_train, cv=5, n_jobs=-1)\n",
    "score_models('KNN', k_scores)"
   ]
  },
  {
   "cell_type": "code",
   "execution_count": null,
   "metadata": {},
   "outputs": [],
   "source": []
  },
  {
   "cell_type": "code",
   "execution_count": 22,
   "metadata": {},
   "outputs": [
    {
     "ename": "AttributeError",
     "evalue": "'dict' object has no attribute 'mean'",
     "output_type": "error",
     "traceback": [
      "\u001b[1;31m---------------------------------------------------------------------------\u001b[0m",
      "\u001b[1;31mAttributeError\u001b[0m                            Traceback (most recent call last)",
      "\u001b[1;32m<ipython-input-22-93147c9bf10f>\u001b[0m in \u001b[0;36m<module>\u001b[1;34m\u001b[0m\n\u001b[1;32m----> 1\u001b[1;33m \u001b[0mbest_model\u001b[0m\u001b[1;33m(\u001b[0m\u001b[1;33m)\u001b[0m\u001b[1;33m\u001b[0m\u001b[1;33m\u001b[0m\u001b[0m\n\u001b[0m",
      "\u001b[1;32m<ipython-input-11-e336ce1907ab>\u001b[0m in \u001b[0;36mbest_model\u001b[1;34m()\u001b[0m\n\u001b[0;32m      3\u001b[0m     \u001b[0mbest_key\u001b[0m \u001b[1;33m=\u001b[0m \u001b[1;32mNone\u001b[0m\u001b[1;33m\u001b[0m\u001b[1;33m\u001b[0m\u001b[0m\n\u001b[0;32m      4\u001b[0m     \u001b[1;32mfor\u001b[0m \u001b[0mkey\u001b[0m \u001b[1;32min\u001b[0m \u001b[0mmodel_dict\u001b[0m\u001b[1;33m:\u001b[0m\u001b[1;33m\u001b[0m\u001b[1;33m\u001b[0m\u001b[0m\n\u001b[1;32m----> 5\u001b[1;33m         \u001b[0mmodel_score\u001b[0m \u001b[1;33m=\u001b[0m \u001b[0mmodel_dict\u001b[0m\u001b[1;33m[\u001b[0m\u001b[0mkey\u001b[0m\u001b[1;33m]\u001b[0m\u001b[1;33m.\u001b[0m\u001b[0mmean\u001b[0m\u001b[1;33m(\u001b[0m\u001b[1;33m)\u001b[0m\u001b[1;33m\u001b[0m\u001b[1;33m\u001b[0m\u001b[0m\n\u001b[0m\u001b[0;32m      6\u001b[0m         \u001b[1;32mtry\u001b[0m\u001b[1;33m:\u001b[0m\u001b[1;33m\u001b[0m\u001b[1;33m\u001b[0m\u001b[0m\n\u001b[0;32m      7\u001b[0m             \u001b[0mmodel_score\u001b[0m\u001b[1;33m=\u001b[0m\u001b[0mmodel_dict\u001b[0m\u001b[1;33m[\u001b[0m\u001b[0mkey\u001b[0m\u001b[1;33m]\u001b[0m\u001b[1;33m[\u001b[0m\u001b[1;34m'test_score'\u001b[0m\u001b[1;33m]\u001b[0m\u001b[1;33m.\u001b[0m\u001b[0mmean\u001b[0m\u001b[1;33m(\u001b[0m\u001b[1;33m)\u001b[0m\u001b[1;33m\u001b[0m\u001b[1;33m\u001b[0m\u001b[0m\n",
      "\u001b[1;31mAttributeError\u001b[0m: 'dict' object has no attribute 'mean'"
     ]
    }
   ],
   "source": [
    "best_model()"
   ]
  },
  {
   "cell_type": "code",
   "execution_count": null,
   "metadata": {},
   "outputs": [],
   "source": []
  }
 ],
 "metadata": {
  "kernelspec": {
   "display_name": "Python 3",
   "language": "python",
   "name": "python3"
  },
  "language_info": {
   "codemirror_mode": {
    "name": "ipython",
    "version": 3
   },
   "file_extension": ".py",
   "mimetype": "text/x-python",
   "name": "python",
   "nbconvert_exporter": "python",
   "pygments_lexer": "ipython3",
   "version": "3.7.3"
  }
 },
 "nbformat": 4,
 "nbformat_minor": 4
}
